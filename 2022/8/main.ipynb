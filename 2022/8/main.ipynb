{
 "cells": [
  {
   "cell_type": "markdown",
   "metadata": {},
   "source": [
    "## Part 1\n",
    "### Plan\n",
    "- find the trees that are not visible\n",
    "  - as you iterate track the max height from all directions\n"
   ]
  },
  {
   "cell_type": "code",
   "execution_count": 76,
   "metadata": {},
   "outputs": [
    {
     "name": "stdout",
     "output_type": "stream",
     "text": [
      "1705\n"
     ]
    }
   ],
   "source": [
    "with open('input.txt') as f:\n",
    "    lines = f.readlines()\n",
    "lines = [line.replace('\\n', '') for line in lines]\n",
    "\n",
    "lines = [line.strip() for line in lines]\n",
    "visible = set()\n",
    "total_side_trees = (len(lines) - 1) * 4\n",
    "max_top = [int(lines[0][i]) for i in range(len(lines[0]))]\n",
    "max_left = [int(line[0]) for line in lines]\n",
    "for y in range(1, len(lines)-1):\n",
    "    for x in range(1, len(lines[0])-1):\n",
    "        height = int(lines[y][x])\n",
    "        if height > max_top[x]:\n",
    "            visible.add((x, y))\n",
    "            max_top[x] = height\n",
    "        if height > max_left[y]:\n",
    "            visible.add((x, y))\n",
    "            max_left[y] = height\n",
    "\n",
    "max_bottom = [int(lines[len(lines)-1][i]) for i in range(len(lines[0]))]\n",
    "max_right = [int(line[len(lines[0])-1]) for line in lines]\n",
    "# run from bottom right to top left\n",
    "for y in range(len(lines)-2, 0, -1):\n",
    "    for x in range(len(lines[0])-2, 0, -1):\n",
    "        height = int(lines[y][x])\n",
    "        if height > max_bottom[x]:\n",
    "            visible.add((x, y))\n",
    "            max_bottom[x] = height\n",
    "        if height > max_right[y]:\n",
    "            visible.add((x, y))\n",
    "            max_right[y] = height\n",
    "print(len(visible) + total_side_trees)\n",
    "        \n",
    "\n",
    "\n"
   ]
  },
  {
   "cell_type": "markdown",
   "metadata": {},
   "source": [
    "## Part 2\n",
    "### Plan\n",
    "- begin from the center and branch out FAILED\n",
    "- iterate through each of the inner points and find the max scenic\n",
    "  - SUUUPER SLOW - but it works??\n",
    "    - although it is linear time as it runs at speed = (height + width) * (height-2 * width-2)  \n",
    "      - in the case of this example of (99+99)*(97*97) it is was ~1862982 computations"
   ]
  },
  {
   "cell_type": "code",
   "execution_count": 77,
   "metadata": {},
   "outputs": [
    {
     "name": "stdout",
     "output_type": "stream",
     "text": [
      "371200\n"
     ]
    }
   ],
   "source": [
    "with open('input.txt') as f:\n",
    "    lines = f.readlines()\n",
    "lines = [line.replace('\\n', '') for line in lines]\n",
    "\n",
    "def scenic_calc(x, y):\n",
    "    if x < 0 or y < 0 or x >= len(lines[0])-1 or y >= len(lines)-1:\n",
    "        return 0\n",
    "    this_height = int(lines[y][x])\n",
    "\n",
    "    # run from x,y to the top\n",
    "    top_distance = 0\n",
    "    for i in range(y-1, -1, -1):\n",
    "        top_distance += 1\n",
    "        if (this_height <= int(lines[i][x])):\n",
    "            break\n",
    "    # print(\"top_distance\", top_distance)\n",
    "\n",
    "    # run from x,y to the bottom\n",
    "    bottom_distance = 0\n",
    "    for i in range(y+1, len(lines)):\n",
    "        bottom_distance += 1\n",
    "        if (this_height <= int(lines[i][x])):\n",
    "            break\n",
    "    # print(\"bottom_distance\", bottom_distance)\n",
    "\n",
    "    left_distance = 0\n",
    "    # run from x,y to the left\n",
    "    for i in range(x-1, -1, -1):\n",
    "        left_distance += 1\n",
    "        if (this_height <= int(lines[y][i])):\n",
    "            break\n",
    "    # print(\"left_distance\", left_distance)\n",
    "\n",
    "    # run from x,y to the right\n",
    "    right_distance = 0\n",
    "    for i in range(x+1, len(lines[0])):\n",
    "        right_distance += 1\n",
    "        if (this_height <= int(lines[y][i])):\n",
    "            break\n",
    "    # print(\"right_distance\", right_distance)\n",
    "\n",
    "    return top_distance * bottom_distance * left_distance * right_distance\n",
    "\n",
    "# run scenic_calc for each point excluding the edges\n",
    "max_scenic = 0\n",
    "for y in range(1, len(lines)-1):\n",
    "    for x in range(1, len(lines[0])-1):\n",
    "        this_scenic = scenic_calc(x, y)\n",
    "        if max_scenic < this_scenic:\n",
    "            max_scenic  = this_scenic\n",
    "print(max_scenic)\n"
   ]
  },
  {
   "cell_type": "code",
   "execution_count": 66,
   "metadata": {},
   "outputs": [
    {
     "name": "stdout",
     "output_type": "stream",
     "text": [
      "120\n"
     ]
    }
   ],
   "source": [
    "# start from center only works in the test input\n",
    "center = len(lines)//2\n",
    "x,y = center, center\n",
    "max_scenic = scenic_calc(x, y)\n",
    "left_scenic = scenic_calc(x-1, y)\n",
    "right_scenic = scenic_calc(x+1, y)\n",
    "top_scenic = scenic_calc(x, y-1)\n",
    "bottom_scenic = scenic_calc(x, y+1)\n",
    "while max_scenic < right_scenic or max_scenic < left_scenic or max_scenic < top_scenic or max_scenic < bottom_scenic:\n",
    "    if max_scenic < right_scenic:\n",
    "        x += 1\n",
    "        max_scenic = right_scenic\n",
    "    if max_scenic < left_scenic:\n",
    "        x -= 1\n",
    "        max_scenic = left_scenic\n",
    "    if max_scenic < top_scenic:\n",
    "        y -= 1\n",
    "        max_scenic = top_scenic\n",
    "    if max_scenic < bottom_scenic:\n",
    "        y += 1\n",
    "        max_scenic = bottom_scenic\n",
    "    left_scenic = scenic_calc(x-1, y)\n",
    "    right_scenic = scenic_calc(x+1, y)\n",
    "    top_scenic = scenic_calc(x, y-1)\n",
    "    bottom_scenic = scenic_calc(x, y+1)\n",
    "print(max_scenic)"
   ]
  },
  {
   "cell_type": "code",
   "execution_count": 53,
   "metadata": {},
   "outputs": [
    {
     "name": "stdout",
     "output_type": "stream",
     "text": [
      "Automatic pdb calling has been turned ON\n"
     ]
    }
   ],
   "source": [
    "import pdb\n",
    "%pdb"
   ]
  }
 ],
 "metadata": {
  "kernelspec": {
   "display_name": "Python 3.10.2 ('env')",
   "language": "python",
   "name": "python3"
  },
  "language_info": {
   "codemirror_mode": {
    "name": "ipython",
    "version": 3
   },
   "file_extension": ".py",
   "mimetype": "text/x-python",
   "name": "python",
   "nbconvert_exporter": "python",
   "pygments_lexer": "ipython3",
   "version": "3.10.2"
  },
  "orig_nbformat": 4,
  "vscode": {
   "interpreter": {
    "hash": "8ebb0fa82196ab5cd02a5b231fa8fb6d37dc58c342ef6ac8d3ed2447e0dae4a4"
   }
  }
 },
 "nbformat": 4,
 "nbformat_minor": 2
}
