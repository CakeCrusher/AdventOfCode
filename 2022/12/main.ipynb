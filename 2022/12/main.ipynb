{
 "cells": [
  {
   "attachments": {},
   "cell_type": "markdown",
   "metadata": {},
   "source": [
    "## Part 1"
   ]
  },
  {
   "cell_type": "code",
   "execution_count": 33,
   "metadata": {},
   "outputs": [
    {
     "name": "stdout",
     "output_type": "stream",
     "text": [
      "{1}\n",
      "{1, 2}\n"
     ]
    }
   ],
   "source": [
    "a = set()\n",
    "a.add(1)\n",
    "# make a copy of a\n",
    "b = a.copy()\n",
    "b.add(2)\n",
    "print(a)\n",
    "print(b)"
   ]
  },
  {
   "cell_type": "code",
   "execution_count": 60,
   "metadata": {},
   "outputs": [
    {
     "data": {
      "text/plain": [
       "459"
      ]
     },
     "execution_count": 60,
     "metadata": {},
     "output_type": "execute_result"
    }
   ],
   "source": [
    "with open('input.txt') as f:\n",
    "    lines = f.readlines()\n",
    "lines = [line.replace('\\n', '') for line in lines]\n",
    "def find_targets(lines, part2=False):\n",
    "    starts = []\n",
    "    for i in range(len(lines)):\n",
    "        for j in range(len(lines[0])):\n",
    "            if (lines[i][j] == 'S' or (part2 and lines[i][j] == 'a')):\n",
    "                starts.append((i, j))\n",
    "            if (lines[i][j] == 'E'):\n",
    "                finish = (i, j)\n",
    "    return starts, finish\n",
    "def traversable_paths(coord, lines):\n",
    "    # get the top, bottom, left, right\n",
    "    top = (coord[0] - 1, coord[1]) \n",
    "    bottom = (coord[0] + 1, coord[1]) \n",
    "    left = (coord[0], coord[1] - 1) \n",
    "    right = (coord[0], coord[1] + 1) \n",
    "\n",
    "    potential_paths = []\n",
    "\n",
    "    curr = lines[coord[0]][coord[1]]\n",
    "    def parse_char(char):\n",
    "        if (char == \"S\"):\n",
    "            char = \"a\"\n",
    "        if (char == \"E\"):\n",
    "            char = \"z\"\n",
    "        return char\n",
    "\n",
    "    ord_curr = ord(parse_char(curr))\n",
    "\n",
    "    if (top[0] >= 0 and ord_curr + 1 >= ord(parse_char(lines[top[0]][top[1]]))):\n",
    "        potential_paths.append(top)\n",
    "    if (bottom[0] < len(lines) and ord_curr + 1 >= ord(parse_char(lines[bottom[0]][bottom[1]]))):\n",
    "        potential_paths.append(bottom)\n",
    "    if (left[1] >= 0 and ord_curr + 1 >= ord(parse_char(lines[left[0]][left[1]]))):\n",
    "        potential_paths.append(left)\n",
    "    if (right[1] < len(lines[0]) and ord_curr + 1 >= ord(parse_char(lines[right[0]][right[1]]))):\n",
    "        potential_paths.append(right)\n",
    "    \n",
    "    return potential_paths\n",
    "\n",
    "def traverse_bfs(starts, finish, lines):\n",
    "    visited = set()\n",
    "    queue = [(start, 0) for start in starts]\n",
    "    while (len(queue) > 0):\n",
    "        curr, steps = queue.pop(0)\n",
    "        if (curr == finish):\n",
    "            return steps\n",
    "        if (curr in visited):\n",
    "            continue\n",
    "        visited.add(curr)\n",
    "        paths = traversable_paths(curr, lines)\n",
    "        for path in paths:\n",
    "            queue.append((path, steps + 1))\n",
    "\n",
    "# def traverse_bfs(start, finish, lines):\n",
    "#     visited = set()\n",
    "#     queue = [(start, visited.copy())]\n",
    "#     while (len(queue) > 0):\n",
    "#         curr, curr_visited = queue.pop(0)\n",
    "#         if (curr == finish):\n",
    "#             return len(curr_visited)\n",
    "#         if (curr in curr_visited):\n",
    "#             continue\n",
    "#         curr_visited.add(curr)\n",
    "#         paths = traversable_paths(curr, lines)\n",
    "#         for path in paths:\n",
    "#             queue.append((path, curr_visited.copy()))\n",
    "#     return False\n",
    "\n",
    "# def traverse_dfs(curr, finish, lines, visited):\n",
    "#     if (curr == finish):\n",
    "#         return len(visited)\n",
    "#     if (curr in visited):\n",
    "#         return False\n",
    "#     visited.add(curr)\n",
    "#     paths = traversable_paths(curr, lines)\n",
    "#     for path in paths:\n",
    "#         steps = traverse_dfs(path, finish, lines, visited.copy())\n",
    "#         if (steps):\n",
    "#             # print(steps)\n",
    "#             return steps\n",
    "#     return False\n",
    "\n",
    "starts, finish = find_targets(lines, True)\n",
    "# traverse_dfs(start, finish, lines, set())\n",
    "traverse_bfs(starts, finish, lines)\n",
    "\n",
    "\n",
    "    \n",
    "    \n"
   ]
  }
 ],
 "metadata": {
  "kernelspec": {
   "display_name": "Python 3.8.8 ('base')",
   "language": "python",
   "name": "python3"
  },
  "language_info": {
   "codemirror_mode": {
    "name": "ipython",
    "version": 3
   },
   "file_extension": ".py",
   "mimetype": "text/x-python",
   "name": "python",
   "nbconvert_exporter": "python",
   "pygments_lexer": "ipython3",
   "version": "3.8.8 (default, Apr 13 2021, 15:08:03) [MSC v.1916 64 bit (AMD64)]"
  },
  "orig_nbformat": 4,
  "vscode": {
   "interpreter": {
    "hash": "6f5583cf1d9466b5c27e75c89cc6b383bed5736d6b16c51c8074d8690011a952"
   }
  }
 },
 "nbformat": 4,
 "nbformat_minor": 2
}
