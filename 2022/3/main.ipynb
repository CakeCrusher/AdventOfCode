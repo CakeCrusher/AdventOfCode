{
 "cells": [
  {
   "cell_type": "markdown",
   "metadata": {},
   "source": [
    "- 2 compartments\n",
    "  - 1: first half\n",
    "  - 2: second half\n",
    "- same amount in each compartment\n",
    "- lowercase have proprity 1-26 and uppercase have priority 27-52\n",
    "- sum the priority for all rucksacks\n",
    "## plan\n",
    "- iterate for each line\n",
    "  - divide the line by 2\n",
    "  - get the set of each half\n",
    "  - iterate through the first half\n",
    "    - where the first half letter is in the second half add the letter to a repeats list\n",
    "- create a function to get the priorities of all the letters in a list\n",
    "- iterate all letters in the repeat list and sum the priorities\n",
    "\n"
   ]
  },
  {
   "cell_type": "code",
   "execution_count": 73,
   "metadata": {},
   "outputs": [
    {
     "name": "stdout",
     "output_type": "stream",
     "text": [
      "7674\n"
     ]
    }
   ],
   "source": [
    "from functools import reduce\n",
    "\n",
    "with open('input.txt') as f:\n",
    "    lines = f.readlines()\n",
    "# # test input\n",
    "# lines = \"\"\"vJrwpWtwJgWrhcsFMMfFFhFp\n",
    "# jqHRNqRjqzjGDLGLrsFMfFZSrLrFZsSL\n",
    "# PmmdzqPrVvPwwTWBwg\n",
    "# wMqvLMZHhHMvwLHjbvcjnnSBnvTQFn\n",
    "# ttgJtRGJQctTZtZT\n",
    "# CrZsJsPPZsGzwwsLwLmpwMDw\"\"\".split(\"\\n\")\n",
    "# lines = [line + \"\\n\" for line in lines]\n",
    "\n",
    "def get_repeated_characters(line):\n",
    "    cleaned_line = line[:-1]\n",
    "    # get the first half of the line\n",
    "    half = len(cleaned_line)//2\n",
    "    first_half = set(cleaned_line[:half])\n",
    "    second_half = set(cleaned_line[half:])\n",
    "    repeated_chars = []\n",
    "    for char in first_half:\n",
    "        if char in second_half:\n",
    "            repeated_chars.append(char)\n",
    "    return repeated_chars\n",
    "\n",
    "def get_priority(char):\n",
    "    # reduce edge case where char is not a string\n",
    "    if not isinstance(char, str):\n",
    "        return char\n",
    "    if char.isupper():\n",
    "        return ord(char) - 65 + 27\n",
    "    else:\n",
    "        return ord(char) - 97 + 1\n",
    "\n",
    "\n",
    "def pipeline_part_a(input):\n",
    "    all_repeated_chars = []\n",
    "    for line in input:\n",
    "        repeated_chars = get_repeated_characters(line)\n",
    "        all_repeated_chars.extend(repeated_chars)\n",
    "    return reduce(lambda char_a, char_b: get_priority(char_a) + get_priority(char_b), all_repeated_chars)\n",
    "    \n",
    "print(pipeline_part_a(lines))"
   ]
  },
  {
   "cell_type": "markdown",
   "metadata": {},
   "source": [
    "\n",
    "## part 2\n",
    "### plan\n",
    "- iterate through each batch of 3 lines\n",
    "  - get the sets of each line\n",
    "    - compare the first 2\n",
    "      - use the outcome to compare to the third\n",
    "        - return the priority of the badge\n",
    "  - return the sum\n",
    "    \n",
    "  "
   ]
  },
  {
   "cell_type": "code",
   "execution_count": 74,
   "metadata": {},
   "outputs": [
    {
     "name": "stdout",
     "output_type": "stream",
     "text": [
      "2805\n"
     ]
    }
   ],
   "source": [
    "\n",
    "def find_badge(lines):\n",
    "    line_a, line_b, line_c = [set(line[:-1]) for line in lines]\n",
    "    return get_priority(line_a.intersection(line_b, line_c).pop())\n",
    "\n",
    "def pipeline_part_b(input):\n",
    "    # batch input into threes\n",
    "    result = 0\n",
    "    for i in range(0, len(input), 3):\n",
    "        result += find_badge(input[i:i+3])\n",
    "    return result\n",
    "print(pipeline_part_b(lines))\n"
   ]
  }
 ],
 "metadata": {
  "kernelspec": {
   "display_name": "Python 3.10.2 ('env')",
   "language": "python",
   "name": "python3"
  },
  "language_info": {
   "codemirror_mode": {
    "name": "ipython",
    "version": 3
   },
   "file_extension": ".py",
   "mimetype": "text/x-python",
   "name": "python",
   "nbconvert_exporter": "python",
   "pygments_lexer": "ipython3",
   "version": "3.10.2"
  },
  "orig_nbformat": 4,
  "vscode": {
   "interpreter": {
    "hash": "8ebb0fa82196ab5cd02a5b231fa8fb6d37dc58c342ef6ac8d3ed2447e0dae4a4"
   }
  }
 },
 "nbformat": 4,
 "nbformat_minor": 2
}
